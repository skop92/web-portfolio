{
 "cells": [
  {
   "cell_type": "markdown",
   "id": "dded4de5",
   "metadata": {},
   "source": [
    "# Aurinkopaneli pisteytys koneoppimisen haasteet.\n",
    "\n",
    "## Aluksi\n",
    "Valitsin käytettäväksi satunnaismetsä luokittelijan ja kun en ole vielä rautainen ammattilainen niin pyrin aluksi löytämään vaan yksinkertaisen mallin josta aloittaa. Pakko kuitenkin myöntää, että data ja valittu lähestymistapa eivät olleet niin helppoja  kuin olisi voinut olettaa ja malli jääkin vielä hyvin vajavaiseksi. Muutamia kysymyksiä joita jouduin esittämään itselleni.\n",
    "* Kuka päättää mitä pisteytetään?\n",
    "    1. Koodari\n",
    "    2. Myyjä\n",
    "    2. Ostaja\n",
    "    4. Poliitikot\n",
    "* Voisiko pisteytyksen tehdä tosiaan pelkän hyötysuhteen perusteella ja hakea ominaisuuksia sen jälkeen? Esim.\n",
    "    1. Hinta\n",
    "    2. Mahdolliset lisävarusteet\n",
    "    3. Luokitus\n",
    "    4. Paras hinta kokoluokassaan jne.\n",
    "* Onko tälläisessä pisteytyksessä merkitystä siitä onko järjestelmä RES tai NON-RES jos haetaan parasta koko hinta suhdetta.\n",
    "* Millä spekseillä parasta mahdollista tuotetta haetaan?\n",
    "    * Tila parametri\n",
    "    * Tarvittava kokoluokka\n",
    "    * Tarvittavat lisävarusteet\n",
    "        * Jo nyt parhaiten hyötysuhteen mukaan pisteytetyt sisältävät lisävarusteita.\n",
    "\n",
    "## Datan haasteet\n",
    "Data ei ole niin suoraviivaista kuin voisi kuvitella. Hyvä esimerkki tästä on, että samaa mallia on voitu myydä erillaisella hinta/koko suhteella samana vuona. Datasta löytyy myös paljontietoja joiden totuudellisuutta on hyvä epäillä kun erot voivat olla niin räikeitä. Opetus mallista voidaan tietenkin poistaa kaikki mahdolliset outlierit ja muut arveluttavat tiedot mahdollisimman hyvin, mutta sekään ei aina kerro koko totuutta siitä miksi joku yksikkö on ollut huomattavasti kalliimpi kokoonsa nähden kuin toinen muuten saman lainen tai toisinpäin. Parhaiksi luokitellut yksiköt kuitenkin paljastivat sen, että mitä kookkaamman järjestelmän olet hankkinut sitä halvemmalla olet saanut hinta/koko suhteen. Ehkä vielä tarkempaa tutkimusta vaatisi se onko eri kokoluokkien välillä eroa valmistajien suhteen.\n"
   ]
  },
  {
   "cell_type": "markdown",
   "id": "b6aa3d32",
   "metadata": {},
   "source": [
    "## 1. Oppimistulokset\n",
    "\n",
    "Vertasin saamiani tuloksia joissain testeissä `cut` funktiolla tehtyyn luokitteluun ja aika hyvinhänse osui kohdilleen. Tosin kyseisessä tapauksessa mietin myös, että eikö kyseinen toiminto olisi jopa tarkempi toteuttaa cut funktiolla. Tosin kun muistan, ettei mallille annettu niitä tietoja joita kyseinen funktio sai eli hyötysuhdetta niin siihen nähden se toimii kuitenkin aika näppärästi. Mietin myös muiden ominaisuuksien pisteytystä, mutta se voi tosiaan olla haastavaa ja itseasiassa jo nyt monissa parhaiksi rankatuissa oli jo muita ominaisuuksia. Mallin uudelleen kouluttamiseksi pitäisi tosin aina hakea ajantasaista dataa käsipelissä, jos ei siihen kehitetä automatiikkaa esim. että lukee automaattisesti vaikka csv tiedoston kansiosta. Mallin uudelleen koulutus vaatii kuitenkin edelleenkin samaa `cut` funktiota jolla luodaan pisteytys eli siinä mielessä ositain kyseenalaista olisiko koneoppimisesta tässä tapauksessa oikeasti hyötyä, kun sama data pystytään periaatteessa hakemaan varmasti ilman malliakin. Tätä en ehkä ajatellut kun valitsin tämän lähestymistavan. "
   ]
  },
  {
   "cell_type": "markdown",
   "id": "d58320f6",
   "metadata": {},
   "source": [
    "## 2-3. Erimenetelmät\n",
    "En kokeillut muita malleja kuin satunnais metsää valitettavasti ajan puutteen vuoksi, kun vertailin eri malleja arvelin sen olevan paras mahdollinen kyseiselle data setille."
   ]
  },
  {
   "cell_type": "markdown",
   "id": "112fc68c",
   "metadata": {},
   "source": [
    "## 4. Jatkokehitys\n",
    "Muiden ominaisuuksien hakemista tai pisteytystä ja mallin siirtoa käytäntöön on vara kehittää. Kyseisessä mallissa ei ole muutenkaan otettu huomioon kuin pelkkä 1. moduuli ja siihen liittyvä laitteisto. Jatkokehityksessä voisi ottaa huomioon jotenkin enemmän muitakin lisälaitteita."
   ]
  },
  {
   "cell_type": "markdown",
   "id": "9f41891f",
   "metadata": {},
   "source": [
    "## 5. Optimointi\n",
    "Optimoinnistakaan en osaa sanoa, kun nytkin toimii jo aika hyvin yli 90% todennäköisyydellä. En kokeillut optimointia tai hyperparametrejä meni niin paljon aikaa kaikenlaiseen analyysiin ja kokeiluihin. Tietysti nekin ovat myös osa optimointia."
   ]
  },
  {
   "cell_type": "markdown",
   "id": "8ac37610",
   "metadata": {},
   "source": [
    "## 6. Muuta huomioitavaa"
   ]
  },
  {
   "cell_type": "markdown",
   "id": "10cd35d4",
   "metadata": {},
   "source": [
    "Tämä on kaikesta huolimatta ollut hyvin antoisa oppimiskokemus. \n",
    "Vaikka ryhmältämme puuttui koneoppimiskurssi niin saimme kuitenkin aikaiseksi paljon "
   ]
  }
 ],
 "metadata": {
  "kernelspec": {
   "display_name": "Python 3 (ipykernel)",
   "language": "python",
   "name": "python3"
  },
  "language_info": {
   "codemirror_mode": {
    "name": "ipython",
    "version": 3
   },
   "file_extension": ".py",
   "mimetype": "text/x-python",
   "name": "python",
   "nbconvert_exporter": "python",
   "pygments_lexer": "ipython3",
   "version": "3.10.4"
  }
 },
 "nbformat": 4,
 "nbformat_minor": 5
}