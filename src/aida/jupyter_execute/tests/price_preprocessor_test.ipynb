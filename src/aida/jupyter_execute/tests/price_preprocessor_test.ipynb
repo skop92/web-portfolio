{
 "cells": [
  {
   "cell_type": "markdown",
   "metadata": {},
   "source": [
    "# TESTI: 'total_installed_price' esikäsittely\n",
    "\n",
    "Koodi testaa `preprocessor.py` esikäsittelijän toiminnan sarakkeelle 'total_installed_price'. Testi ajetaan kahdella varsinaisella modella: 'minimal' ja 'common'. Vanha 'stand_alone_PV' on korvattu hyödyntämällä uutta saraketta 'battery_storage', joka ilmaisee akun kuulumista järjestelmään.\n",
    "\n",
    "Lisänä huomioitu lähinnä 'Tesla Energy' asennusyrityksen vaikutus 'price_per_kW' välillä [5100, 5200], jossa on hintatehosuhdejakauman korkein piikki."
   ]
  },
  {
   "cell_type": "markdown",
   "metadata": {},
   "source": [
    "## Mode: 'minimal'"
   ]
  },
  {
   "cell_type": "code",
   "execution_count": 1,
   "metadata": {},
   "outputs": [
    {
     "data": {
      "text/html": [
       "<div>\n",
       "<style scoped>\n",
       "    .dataframe tbody tr th:only-of-type {\n",
       "        vertical-align: middle;\n",
       "    }\n",
       "\n",
       "    .dataframe tbody tr th {\n",
       "        vertical-align: top;\n",
       "    }\n",
       "\n",
       "    .dataframe thead th {\n",
       "        text-align: right;\n",
       "    }\n",
       "</style>\n",
       "<table border=\"1\" class=\"dataframe\">\n",
       "  <thead>\n",
       "    <tr style=\"text-align: right;\">\n",
       "      <th></th>\n",
       "      <th>total_installed_price</th>\n",
       "      <th>price_per_kW</th>\n",
       "      <th>battery_storage</th>\n",
       "    </tr>\n",
       "  </thead>\n",
       "  <tbody>\n",
       "    <tr>\n",
       "      <th>count</th>\n",
       "      <td>8.143640e+05</td>\n",
       "      <td>814322.000000</td>\n",
       "      <td>1000000.000000</td>\n",
       "    </tr>\n",
       "    <tr>\n",
       "      <th>mean</th>\n",
       "      <td>3.824708e+04</td>\n",
       "      <td>4572.313062</td>\n",
       "      <td>0.015449</td>\n",
       "    </tr>\n",
       "    <tr>\n",
       "      <th>std</th>\n",
       "      <td>1.919481e+05</td>\n",
       "      <td>2391.154643</td>\n",
       "      <td>0.123330</td>\n",
       "    </tr>\n",
       "    <tr>\n",
       "      <th>min</th>\n",
       "      <td>1.000000e-02</td>\n",
       "      <td>0.000019</td>\n",
       "      <td>0.000000</td>\n",
       "    </tr>\n",
       "    <tr>\n",
       "      <th>20%</th>\n",
       "      <td>1.464320e+04</td>\n",
       "      <td>3349.720113</td>\n",
       "      <td>0.000000</td>\n",
       "    </tr>\n",
       "    <tr>\n",
       "      <th>50%</th>\n",
       "      <td>2.404256e+04</td>\n",
       "      <td>4470.211555</td>\n",
       "      <td>0.000000</td>\n",
       "    </tr>\n",
       "    <tr>\n",
       "      <th>80%</th>\n",
       "      <td>3.725029e+04</td>\n",
       "      <td>5383.672555</td>\n",
       "      <td>0.000000</td>\n",
       "    </tr>\n",
       "    <tr>\n",
       "      <th>max</th>\n",
       "      <td>6.150719e+07</td>\n",
       "      <td>823842.151675</td>\n",
       "      <td>1.000000</td>\n",
       "    </tr>\n",
       "  </tbody>\n",
       "</table>\n",
       "</div>"
      ],
      "text/plain": [
       "       total_installed_price   price_per_kW  battery_storage\n",
       "count           8.143640e+05  814322.000000   1000000.000000\n",
       "mean            3.824708e+04    4572.313062         0.015449\n",
       "std             1.919481e+05    2391.154643         0.123330\n",
       "min             1.000000e-02       0.000019         0.000000\n",
       "20%             1.464320e+04    3349.720113         0.000000\n",
       "50%             2.404256e+04    4470.211555         0.000000\n",
       "80%             3.725029e+04    5383.672555         0.000000\n",
       "max             6.150719e+07  823842.151675         1.000000"
      ]
     },
     "execution_count": 1,
     "metadata": {},
     "output_type": "execute_result"
    }
   ],
   "source": [
    "import pandas as pd\n",
    "import numpy as np\n",
    "\n",
    "import importlib.util\n",
    "import sys\n",
    "file_path = \"../Tehtava-03/preprocessor.py\"; module_name = \"preprocessor\"; spec = importlib.util.spec_from_file_location(module_name, file_path)\n",
    "esik = importlib.util.module_from_spec(spec); sys.modules[module_name] = esik; spec.loader.exec_module(esik)\n",
    "\n",
    "\n",
    "cols = ['total_installed_price', 'price_per_kW', 'installer_name', 'battery_storage']\n",
    "\n",
    "df = esik.esik(cols, 'minimal')\n",
    "df.describe(percentiles=[.2, .5, .8])"
   ]
  },
  {
   "cell_type": "code",
   "execution_count": 2,
   "metadata": {},
   "outputs": [
    {
     "data": {
      "text/plain": [
       "Tesla Energy              74781\n",
       "Vivint Solar Developer     1182\n",
       "Sunpower Capital            430\n",
       "Verengo                     415\n",
       "Petersen Dean               358\n",
       "Name: installer_name, dtype: int64"
      ]
     },
     "execution_count": 2,
     "metadata": {},
     "output_type": "execute_result"
    }
   ],
   "source": [
    "df = df[(df['price_per_kW'] <= 5200) & (df['price_per_kW'] >= 5100)]\n",
    "df['installer_name'].value_counts().head(5)"
   ]
  },
  {
   "cell_type": "markdown",
   "metadata": {},
   "source": [
    "## Mode: 'common'"
   ]
  },
  {
   "cell_type": "code",
   "execution_count": 3,
   "metadata": {},
   "outputs": [
    {
     "data": {
      "text/html": [
       "<div>\n",
       "<style scoped>\n",
       "    .dataframe tbody tr th:only-of-type {\n",
       "        vertical-align: middle;\n",
       "    }\n",
       "\n",
       "    .dataframe tbody tr th {\n",
       "        vertical-align: top;\n",
       "    }\n",
       "\n",
       "    .dataframe thead th {\n",
       "        text-align: right;\n",
       "    }\n",
       "</style>\n",
       "<table border=\"1\" class=\"dataframe\">\n",
       "  <thead>\n",
       "    <tr style=\"text-align: right;\">\n",
       "      <th></th>\n",
       "      <th>total_installed_price</th>\n",
       "      <th>price_per_kW</th>\n",
       "      <th>battery_storage</th>\n",
       "    </tr>\n",
       "  </thead>\n",
       "  <tbody>\n",
       "    <tr>\n",
       "      <th>count</th>\n",
       "      <td>7.601830e+05</td>\n",
       "      <td>640335.000000</td>\n",
       "      <td>1000000.000000</td>\n",
       "    </tr>\n",
       "    <tr>\n",
       "      <th>mean</th>\n",
       "      <td>3.866728e+04</td>\n",
       "      <td>4626.638018</td>\n",
       "      <td>0.015449</td>\n",
       "    </tr>\n",
       "    <tr>\n",
       "      <th>std</th>\n",
       "      <td>1.932668e+05</td>\n",
       "      <td>2273.649241</td>\n",
       "      <td>0.123330</td>\n",
       "    </tr>\n",
       "    <tr>\n",
       "      <th>min</th>\n",
       "      <td>1.000000e-02</td>\n",
       "      <td>1000.000000</td>\n",
       "      <td>0.000000</td>\n",
       "    </tr>\n",
       "    <tr>\n",
       "      <th>20%</th>\n",
       "      <td>1.500100e+04</td>\n",
       "      <td>3472.222222</td>\n",
       "      <td>0.000000</td>\n",
       "    </tr>\n",
       "    <tr>\n",
       "      <th>50%</th>\n",
       "      <td>2.443190e+04</td>\n",
       "      <td>4499.183673</td>\n",
       "      <td>0.000000</td>\n",
       "    </tr>\n",
       "    <tr>\n",
       "      <th>80%</th>\n",
       "      <td>3.744000e+04</td>\n",
       "      <td>5259.938838</td>\n",
       "      <td>0.000000</td>\n",
       "    </tr>\n",
       "    <tr>\n",
       "      <th>max</th>\n",
       "      <td>6.150719e+07</td>\n",
       "      <td>823842.151675</td>\n",
       "      <td>1.000000</td>\n",
       "    </tr>\n",
       "  </tbody>\n",
       "</table>\n",
       "</div>"
      ],
      "text/plain": [
       "       total_installed_price   price_per_kW  battery_storage\n",
       "count           7.601830e+05  640335.000000   1000000.000000\n",
       "mean            3.866728e+04    4626.638018         0.015449\n",
       "std             1.932668e+05    2273.649241         0.123330\n",
       "min             1.000000e-02    1000.000000         0.000000\n",
       "20%             1.500100e+04    3472.222222         0.000000\n",
       "50%             2.443190e+04    4499.183673         0.000000\n",
       "80%             3.744000e+04    5259.938838         0.000000\n",
       "max             6.150719e+07  823842.151675         1.000000"
      ]
     },
     "execution_count": 3,
     "metadata": {},
     "output_type": "execute_result"
    }
   ],
   "source": [
    "df = esik.esik(cols, 'common')\n",
    "df.describe(percentiles=[.2, .5, .8])"
   ]
  },
  {
   "cell_type": "code",
   "execution_count": 4,
   "metadata": {},
   "outputs": [
    {
     "data": {
      "text/plain": [
       "Tesla Energy              73316\n",
       "Vivint Solar Developer      989\n",
       "Sunpower Capital            409\n",
       "Verengo                     393\n",
       "Petersen Dean               327\n",
       "Name: installer_name, dtype: int64"
      ]
     },
     "execution_count": 4,
     "metadata": {},
     "output_type": "execute_result"
    }
   ],
   "source": [
    "df = df[(df['price_per_kW'] <= 5200) & (df['price_per_kW'] >= 5100)]\n",
    "df['installer_name'].value_counts().head(5)"
   ]
  },
  {
   "cell_type": "markdown",
   "metadata": {},
   "source": [
    "## Mode: 'stand_alone_PV'\n",
    "\n",
    "Tässä tehdään 'stand_alone_PV' suodatus vasta esikäsittelijä funktion jälkeen, koska päivityksen myötä vanha mode poistettiin käytöstä. Uudessa versiossa käytettävä mode on 'common'."
   ]
  },
  {
   "cell_type": "code",
   "execution_count": 5,
   "metadata": {},
   "outputs": [
    {
     "data": {
      "text/html": [
       "<div>\n",
       "<style scoped>\n",
       "    .dataframe tbody tr th:only-of-type {\n",
       "        vertical-align: middle;\n",
       "    }\n",
       "\n",
       "    .dataframe tbody tr th {\n",
       "        vertical-align: top;\n",
       "    }\n",
       "\n",
       "    .dataframe thead th {\n",
       "        text-align: right;\n",
       "    }\n",
       "</style>\n",
       "<table border=\"1\" class=\"dataframe\">\n",
       "  <thead>\n",
       "    <tr style=\"text-align: right;\">\n",
       "      <th></th>\n",
       "      <th>total_installed_price</th>\n",
       "      <th>price_per_kW</th>\n",
       "      <th>battery_storage</th>\n",
       "    </tr>\n",
       "  </thead>\n",
       "  <tbody>\n",
       "    <tr>\n",
       "      <th>count</th>\n",
       "      <td>7.450100e+05</td>\n",
       "      <td>631646.000000</td>\n",
       "      <td>984551.0</td>\n",
       "    </tr>\n",
       "    <tr>\n",
       "      <th>mean</th>\n",
       "      <td>3.831658e+04</td>\n",
       "      <td>4621.127393</td>\n",
       "      <td>0.0</td>\n",
       "    </tr>\n",
       "    <tr>\n",
       "      <th>std</th>\n",
       "      <td>1.790540e+05</td>\n",
       "      <td>2274.753643</td>\n",
       "      <td>0.0</td>\n",
       "    </tr>\n",
       "    <tr>\n",
       "      <th>min</th>\n",
       "      <td>1.000000e-02</td>\n",
       "      <td>1000.000000</td>\n",
       "      <td>0.0</td>\n",
       "    </tr>\n",
       "    <tr>\n",
       "      <th>20%</th>\n",
       "      <td>1.500000e+04</td>\n",
       "      <td>3464.000000</td>\n",
       "      <td>0.0</td>\n",
       "    </tr>\n",
       "    <tr>\n",
       "      <th>50%</th>\n",
       "      <td>2.430000e+04</td>\n",
       "      <td>4487.179487</td>\n",
       "      <td>0.0</td>\n",
       "    </tr>\n",
       "    <tr>\n",
       "      <th>80%</th>\n",
       "      <td>3.727300e+04</td>\n",
       "      <td>5251.536615</td>\n",
       "      <td>0.0</td>\n",
       "    </tr>\n",
       "    <tr>\n",
       "      <th>max</th>\n",
       "      <td>2.000000e+07</td>\n",
       "      <td>823842.151675</td>\n",
       "      <td>0.0</td>\n",
       "    </tr>\n",
       "  </tbody>\n",
       "</table>\n",
       "</div>"
      ],
      "text/plain": [
       "       total_installed_price   price_per_kW  battery_storage\n",
       "count           7.450100e+05  631646.000000         984551.0\n",
       "mean            3.831658e+04    4621.127393              0.0\n",
       "std             1.790540e+05    2274.753643              0.0\n",
       "min             1.000000e-02    1000.000000              0.0\n",
       "20%             1.500000e+04    3464.000000              0.0\n",
       "50%             2.430000e+04    4487.179487              0.0\n",
       "80%             3.727300e+04    5251.536615              0.0\n",
       "max             2.000000e+07  823842.151675              0.0"
      ]
     },
     "execution_count": 5,
     "metadata": {},
     "output_type": "execute_result"
    }
   ],
   "source": [
    "df = esik.esik(cols, 'common')\n",
    "df = df[(df['battery_storage'] == 0)]\n",
    "df.describe(percentiles=[.2, .5, .8])"
   ]
  },
  {
   "cell_type": "code",
   "execution_count": 6,
   "metadata": {},
   "outputs": [
    {
     "data": {
      "text/plain": [
       "Tesla Energy              71286\n",
       "Vivint Solar Developer      989\n",
       "Sunpower Capital            409\n",
       "Verengo                     393\n",
       "Petersen Dean               308\n",
       "Name: installer_name, dtype: int64"
      ]
     },
     "execution_count": 6,
     "metadata": {},
     "output_type": "execute_result"
    }
   ],
   "source": [
    "df = df[(df['price_per_kW'] <= 5200) & (df['price_per_kW'] >= 5100)]\n",
    "df['installer_name'].value_counts().head(5)"
   ]
  },
  {
   "cell_type": "markdown",
   "metadata": {},
   "source": [
    "## Mode: 'paired_PV_and_storage'\n",
    "\n",
    "Edellisen vastapainoksi vain akkujärjestelmät uutena lisänä."
   ]
  },
  {
   "cell_type": "code",
   "execution_count": 7,
   "metadata": {},
   "outputs": [
    {
     "data": {
      "text/html": [
       "<div>\n",
       "<style scoped>\n",
       "    .dataframe tbody tr th:only-of-type {\n",
       "        vertical-align: middle;\n",
       "    }\n",
       "\n",
       "    .dataframe tbody tr th {\n",
       "        vertical-align: top;\n",
       "    }\n",
       "\n",
       "    .dataframe thead th {\n",
       "        text-align: right;\n",
       "    }\n",
       "</style>\n",
       "<table border=\"1\" class=\"dataframe\">\n",
       "  <thead>\n",
       "    <tr style=\"text-align: right;\">\n",
       "      <th></th>\n",
       "      <th>total_installed_price</th>\n",
       "      <th>price_per_kW</th>\n",
       "      <th>battery_storage</th>\n",
       "    </tr>\n",
       "  </thead>\n",
       "  <tbody>\n",
       "    <tr>\n",
       "      <th>count</th>\n",
       "      <td>1.517300e+04</td>\n",
       "      <td>8689.000000</td>\n",
       "      <td>15449.0</td>\n",
       "    </tr>\n",
       "    <tr>\n",
       "      <th>mean</th>\n",
       "      <td>5.588729e+04</td>\n",
       "      <td>5027.232370</td>\n",
       "      <td>1.0</td>\n",
       "    </tr>\n",
       "    <tr>\n",
       "      <th>std</th>\n",
       "      <td>5.448829e+05</td>\n",
       "      <td>2154.568800</td>\n",
       "      <td>0.0</td>\n",
       "    </tr>\n",
       "    <tr>\n",
       "      <th>min</th>\n",
       "      <td>1.000000e+00</td>\n",
       "      <td>1000.000000</td>\n",
       "      <td>1.0</td>\n",
       "    </tr>\n",
       "    <tr>\n",
       "      <th>20%</th>\n",
       "      <td>2.050000e+04</td>\n",
       "      <td>4010.698396</td>\n",
       "      <td>1.0</td>\n",
       "    </tr>\n",
       "    <tr>\n",
       "      <th>50%</th>\n",
       "      <td>3.130100e+04</td>\n",
       "      <td>5120.000000</td>\n",
       "      <td>1.0</td>\n",
       "    </tr>\n",
       "    <tr>\n",
       "      <th>80%</th>\n",
       "      <td>4.407510e+04</td>\n",
       "      <td>5556.050480</td>\n",
       "      <td>1.0</td>\n",
       "    </tr>\n",
       "    <tr>\n",
       "      <th>max</th>\n",
       "      <td>6.150719e+07</td>\n",
       "      <td>126355.214717</td>\n",
       "      <td>1.0</td>\n",
       "    </tr>\n",
       "  </tbody>\n",
       "</table>\n",
       "</div>"
      ],
      "text/plain": [
       "       total_installed_price   price_per_kW  battery_storage\n",
       "count           1.517300e+04    8689.000000          15449.0\n",
       "mean            5.588729e+04    5027.232370              1.0\n",
       "std             5.448829e+05    2154.568800              0.0\n",
       "min             1.000000e+00    1000.000000              1.0\n",
       "20%             2.050000e+04    4010.698396              1.0\n",
       "50%             3.130100e+04    5120.000000              1.0\n",
       "80%             4.407510e+04    5556.050480              1.0\n",
       "max             6.150719e+07  126355.214717              1.0"
      ]
     },
     "execution_count": 7,
     "metadata": {},
     "output_type": "execute_result"
    }
   ],
   "source": [
    "df = esik.esik(cols, 'common')\n",
    "df = df[(df['battery_storage'] == 1)]\n",
    "df.describe(percentiles=[.2, .5, .8])"
   ]
  },
  {
   "cell_type": "code",
   "execution_count": 8,
   "metadata": {},
   "outputs": [
    {
     "data": {
      "text/plain": [
       "Tesla Energy            2030\n",
       "Rec Solarmmercialrp       54\n",
       "Sunrun                    51\n",
       "Petersen Dean             19\n",
       "Sullivan Solar Power      16\n",
       "Name: installer_name, dtype: int64"
      ]
     },
     "execution_count": 8,
     "metadata": {},
     "output_type": "execute_result"
    }
   ],
   "source": [
    "df = df[(df['price_per_kW'] <= 5200) & (df['price_per_kW'] >= 5100)]\n",
    "df['installer_name'].value_counts().head(5)"
   ]
  }
 ],
 "metadata": {
  "kernelspec": {
   "display_name": "Python 3.10.4 ('da_ai_env')",
   "language": "python",
   "name": "python3"
  },
  "language_info": {
   "codemirror_mode": {
    "name": "ipython",
    "version": 3
   },
   "file_extension": ".py",
   "mimetype": "text/x-python",
   "name": "python",
   "nbconvert_exporter": "python",
   "pygments_lexer": "ipython3",
   "version": "3.10.4"
  },
  "vscode": {
   "interpreter": {
    "hash": "3a65a44c85c869c33a345276f8dcd5421c49d7bf804d1612c11dae48fbe631cf"
   }
  }
 },
 "nbformat": 4,
 "nbformat_minor": 2
}