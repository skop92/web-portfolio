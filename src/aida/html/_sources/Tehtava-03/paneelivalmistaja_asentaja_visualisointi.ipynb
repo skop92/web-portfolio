{
 "cells": [
  {
   "cell_type": "markdown",
   "id": "f38154f0",
   "metadata": {},
   "source": [
    "# Kuinka pitkään paneelivalmistajat ja asennusfirmat ovat toimineet alalla?"
   ]
  },
  {
   "cell_type": "markdown",
   "id": "7bba3cc0",
   "metadata": {},
   "source": [
    "\n",
    "Paneelin valmistajan ja asentajan ensimmäisen tehtävän päivämäärä.\n",
    "\n"
   ]
  },
  {
   "cell_type": "code",
   "execution_count": 1,
   "id": "3284af77",
   "metadata": {},
   "outputs": [],
   "source": [
    "import numpy as np\n",
    "import pandas as pd\n",
    "import matplotlib.pyplot as plt\n",
    "import seaborn as sns\n",
    "\n",
    "\n",
    "# Ladataan data tiedostosta ja muutetaan '-9999' NaN:eiksi\n",
    "url_src = \"d:/aidaprojekti\\LBNL_file.csv\"\n",
    "df = pd.read_csv(url_src, low_memory=False, na_values = '-9999')\n",
    "\n",
    "# Muutetaan päivämäärät ja järjestetään sen mukaan\n",
    "df['installation_date'] = pd.to_datetime(df['installation_date'])\n",
    "df = df.sort_values(['installation_date'], ascending=True)\n",
    "\n",
    "\n",
    "# Muutetaan nimet/kirjaimet isoiksi\n",
    "df['module_manufacturer_1'] = df['module_manufacturer_1'].str.upper()\n",
    "df['module_manufacturer_2'] = df['module_manufacturer_2'].str.upper()\n",
    "df['module_manufacturer_3'] = df['module_manufacturer_3'].str.upper()\n",
    "df['installer_name'] = df['installer_name'].str.upper()\n",
    "\n",
    "\n",
    "# Otetaan jokainen tarvittava sarake ja päivämäärä\n",
    "mod1 = df[['installation_date','module_manufacturer_1']]\n",
    "mod2 = df[['installation_date','module_manufacturer_2']]\n",
    "mod3 = df[['installation_date','module_manufacturer_3']]\n",
    "inst = df[['installation_date','installer_name']]\n",
    "\n",
    "\n",
    "# NaN:it pois\n",
    "mod11 = mod1.dropna()\n",
    "mod12 = mod2.dropna()\n",
    "mod13 = mod3.dropna()\n",
    "inst1 = inst.dropna()\n",
    "\n",
    "\n",
    "# paneelin tekijän ja asentajan duplikaatit pois ja aikaisin päivämäärä mukaan\n",
    "mod11 = mod11.drop_duplicates(subset=['module_manufacturer_1'])\n",
    "mod12 = mod12.drop_duplicates(subset=['module_manufacturer_2'])\n",
    "mod13 = mod13.drop_duplicates(subset=['module_manufacturer_3'])\n",
    "inst1 = inst1.drop_duplicates(subset=['installer_name'])\n",
    "\n",
    "\n"
   ]
  },
  {
   "cell_type": "markdown",
   "id": "81e75199",
   "metadata": {},
   "source": [
    "Printataan 'module_manufacturer_1' päivämäärän mukaan, josta poistettu dublikaatit.\n",
    "\n",
    "Paneeli valmistajien määrä on 317."
   ]
  },
  {
   "cell_type": "code",
   "execution_count": 2,
   "id": "8c9034b3",
   "metadata": {},
   "outputs": [
    {
     "name": "stdout",
     "output_type": "stream",
     "text": [
      "       installation_date                  module_manufacturer_1\n",
      "978707        1998-05-19                          KYOCERA SOLAR\n",
      "200567        2001-12-12                             SOLARWORLD\n",
      "865015        2002-03-31                           SCHOTT SOLAR\n",
      "81090         2002-05-19                              EPV SOLAR\n",
      "418549        2002-11-03                        ATLANTIS ENERGY\n",
      "...                  ...                                    ...\n",
      "126054        2019-08-15               NEXT ENERGY ALLIANCE LLC\n",
      "63977         2019-09-03               MISSION SOLAR ENERGY LLC\n",
      "110722        2019-09-20  SERAPHIM SOLAR USA MANUFACTURING INC.\n",
      "224609        2019-11-01                   MUNDRA SOLAR PV LTD.\n",
      "163           2019-12-23         MERLIN SOLAR TECHNOLOGIES, INC\n",
      "\n",
      "[317 rows x 2 columns]\n"
     ]
    }
   ],
   "source": [
    "print(mod11)"
   ]
  },
  {
   "cell_type": "markdown",
   "id": "b4b41dc4",
   "metadata": {},
   "source": [
    "Printataan 'module_manufacturer_2' päivämäärän mukaan, josta poistettu dublikaatit.\n",
    "\n",
    "Paneeli valmistajien määrä on 154."
   ]
  },
  {
   "cell_type": "code",
   "execution_count": 3,
   "id": "8214a8fa",
   "metadata": {},
   "outputs": [
    {
     "name": "stdout",
     "output_type": "stream",
     "text": [
      "       installation_date        module_manufacturer_2\n",
      "979692        2003-06-05                        SHARP\n",
      "231645        2003-07-20                KYOCERA SOLAR\n",
      "755054        2003-11-20                     BP SOLAR\n",
      "113200        2004-02-11                 SCHOTT SOLAR\n",
      "817459        2006-03-05          UNITED SOLAR OVONIC\n",
      "...                  ...                          ...\n",
      "594042        2019-05-07    MISSION SOLAR ENERGY LLC.\n",
      "212519        2019-05-08       ONYX SOLAR ENERGY S.L.\n",
      "128476        2019-11-13            SILFAB SOLAR INC.\n",
      "234632        2019-11-19    HANSOL TECHNICS CO., LTD.\n",
      "8969          2019-12-16  INTEGRATED SOLAR TECHNOLOGY\n",
      "\n",
      "[154 rows x 2 columns]\n"
     ]
    }
   ],
   "source": [
    "print(mod12)"
   ]
  },
  {
   "cell_type": "markdown",
   "id": "c5477ccf",
   "metadata": {},
   "source": [
    "Printataan 'module_manufacturer_3' päivämäärän mukaan, josta poistettu dublikaatit.\n",
    "\n",
    "Paneeli valmistajien määrä on 72."
   ]
  },
  {
   "cell_type": "code",
   "execution_count": 4,
   "id": "60424055",
   "metadata": {},
   "outputs": [
    {
     "name": "stdout",
     "output_type": "stream",
     "text": [
      "       installation_date                    module_manufacturer_3\n",
      "817459        2006-03-05                                 SUNPOWER\n",
      "136291        2007-04-19                                PANASONIC\n",
      "53548         2007-06-02                                    SHARP\n",
      "383717        2007-11-29                      UNITED SOLAR OVONIC\n",
      "220819        2008-03-27                             SCHOTT SOLAR\n",
      "...                  ...                                      ...\n",
      "851459        2019-02-19                                   SILFAB\n",
      "271200        2019-04-24                       WESTINGHOUSE SOLAR\n",
      "50991         2019-08-29                                  MIASOLE\n",
      "463409        2019-11-14  LONGI GREEN ENERGY TECHNOLOGY CO., LTD.\n",
      "8302          2019-12-02                            SUNPREME INC.\n",
      "\n",
      "[72 rows x 2 columns]\n"
     ]
    }
   ],
   "source": [
    "print(mod13)"
   ]
  },
  {
   "cell_type": "markdown",
   "id": "a53437c0",
   "metadata": {},
   "source": [
    "Printataan 'installer_name' päivämäärän mukaan, josta poistettu dublikaatit.\n",
    "\n",
    "Paneelienasentajien määrä on 4741."
   ]
  },
  {
   "cell_type": "code",
   "execution_count": 5,
   "id": "c9b213e6",
   "metadata": {
    "scrolled": true
   },
   "outputs": [
    {
     "name": "stdout",
     "output_type": "stream",
     "text": [
      "       installation_date        installer_name\n",
      "154819        1998-04-10                  SELF\n",
      "978707        1998-05-19          TESLA ENERGY\n",
      "432587        1998-08-14   SUN LIGHT AND POWER\n",
      "804389        1998-09-26  SIERRA SOLAR SYSTEMS\n",
      "136542        1998-11-14     REAL GOODS SOLAR \n",
      "...                  ...                   ...\n",
      "8485          2019-12-26   TARABINI MECHANICAL\n",
      "847955        2019-12-26           HEATSPOTTER\n",
      "10629         2019-12-26        CYRUSNTRACTORS\n",
      "1788          2019-12-27     CHAMBERS ELECTRIC\n",
      "7517          2019-12-30     SOMIS INVESTMENTS\n",
      "\n",
      "[4741 rows x 2 columns]\n"
     ]
    }
   ],
   "source": [
    "print(inst1)"
   ]
  },
  {
   "cell_type": "markdown",
   "id": "207dfb3d",
   "metadata": {},
   "source": [
    "Muutetaan paneelien valmistajat (sarakkeet 1,2,3) samaan sarakkeeseen 'module'.\n",
    "Poistetaan dublikaatit"
   ]
  },
  {
   "cell_type": "code",
   "execution_count": 6,
   "id": "38f12634",
   "metadata": {},
   "outputs": [],
   "source": [
    "# Muutetaan module_manufacturer sarakkeiden nimet module:ksi\n",
    "mod11[['installation_date','module']] = mod11[['installation_date','module_manufacturer_1']]\n",
    "mod12[['installation_date','module']] = mod12[['installation_date','module_manufacturer_2']]\n",
    "mod13[['installation_date','module']] = mod13[['installation_date','module_manufacturer_3']]\n",
    "\n",
    "# Yhdistetään\n",
    "modul1 = pd.concat([mod11[['installation_date','module']], mod12[['installation_date','module']], mod13[['installation_date','module']]],ignore_index=True)\n",
    "\n",
    "# Päivämäärän mukaan sortattu\n",
    "module = modul1.sort_values(['installation_date'], ascending=True)\n",
    "\n",
    "# poistetaan duplikaatit\n",
    "modulee = module.drop_duplicates(subset=['module'])\n",
    "\n"
   ]
  },
  {
   "cell_type": "markdown",
   "id": "12e8e577",
   "metadata": {},
   "source": [
    "Printataan yhdistetty paneeli valmistajat päivämäärän mukaan.\n",
    "\n",
    "Paneeli valmistajien määrä on kaiken kaikkiaan 321."
   ]
  },
  {
   "cell_type": "code",
   "execution_count": 7,
   "id": "21aed362",
   "metadata": {},
   "outputs": [
    {
     "name": "stdout",
     "output_type": "stream",
     "text": [
      "modulee::     installation_date                                 module\n",
      "0          1998-05-19                          KYOCERA SOLAR\n",
      "1          2001-12-12                             SOLARWORLD\n",
      "2          2002-03-31                           SCHOTT SOLAR\n",
      "3          2002-05-19                              EPV SOLAR\n",
      "4          2002-11-03                        ATLANTIS ENERGY\n",
      "..                ...                                    ...\n",
      "312        2019-08-15               NEXT ENERGY ALLIANCE LLC\n",
      "313        2019-09-03               MISSION SOLAR ENERGY LLC\n",
      "314        2019-09-20  SERAPHIM SOLAR USA MANUFACTURING INC.\n",
      "315        2019-11-01                   MUNDRA SOLAR PV LTD.\n",
      "316        2019-12-23         MERLIN SOLAR TECHNOLOGIES, INC\n",
      "\n",
      "[321 rows x 2 columns]\n"
     ]
    }
   ],
   "source": [
    "print(\"modulee::\",modulee)"
   ]
  },
  {
   "cell_type": "markdown",
   "id": "f6599f49",
   "metadata": {},
   "source": [
    "Printataan paneeli valmistajien mukaan järjestetty."
   ]
  },
  {
   "cell_type": "code",
   "execution_count": 8,
   "id": "58995bf2",
   "metadata": {},
   "outputs": [
    {
     "name": "stdout",
     "output_type": "stream",
     "text": [
      "moduleee:      installation_date                                             module\n",
      "71         2010-09-12                                           1SOLTECH\n",
      "248        2016-06-27                                A10GREEN TECHNOLOGY\n",
      "273        2017-08-17                                        AAVID SOLAR\n",
      "348        2010-01-19                                       ABOUND SOLAR\n",
      "232        2015-09-22                                    ACCUSOLAR POWER\n",
      "..                ...                                                ...\n",
      "131        2012-01-13            ZHEJIANG GLOBAL PHOTOVOLTAIC TECHNOLOGY\n",
      "182        2013-05-10                         ZHEJIANG JIUTAI NEW ENERGY\n",
      "145        2012-04-03              ZHEJIANG KINGDOM SOLAR ENERGY TECHNIC\n",
      "50         2010-02-03  ZHEJIANG SUNFLOWER LIGHT ENERGY SCIENCE & TECH...\n",
      "430        2015-01-25                          ZNSHINE PV-TECH CO., LTD.\n",
      "\n",
      "[321 rows x 2 columns]\n"
     ]
    }
   ],
   "source": [
    "# paneelivalmistajan mukaan sortattu vain printtauksen takia\n",
    "module1 = modulee.sort_values(['module'], ascending=True)\n",
    "print(\"moduleee: \",module1)\n"
   ]
  },
  {
   "cell_type": "markdown",
   "id": "7cca4695",
   "metadata": {},
   "source": [
    "\n",
    "\n",
    "Visualisointi 'uusia Paneeli valmistajia / vuosi'.\n",
    "\n",
    "Kuvaajasta näkee miten uusia paneelien valmistajia on tullut markkinoille.\n",
    "1998 - 2008 on ollut vain muutama uusi tullut vuodessa.\n",
    "Sen jälkeen on valmistajien määrä noussut moninkertaiseksi per vuosi."
   ]
  },
  {
   "cell_type": "code",
   "execution_count": 9,
   "id": "b73e0401",
   "metadata": {},
   "outputs": [
    {
     "name": "stdout",
     "output_type": "stream",
     "text": [
      "valmistaja:       installation_date                                 module\n",
      "0                 1998                          KYOCERA SOLAR\n",
      "1                 2001                             SOLARWORLD\n",
      "2                 2002                           SCHOTT SOLAR\n",
      "3                 2002                              EPV SOLAR\n",
      "4                 2002                        ATLANTIS ENERGY\n",
      "..                 ...                                    ...\n",
      "308               2019       CHINT SOLAR (ZHEJIANG) CO., LTD.\n",
      "305               2019              MISSION SOLAR ENERGY LLC.\n",
      "316               2019         MERLIN SOLAR TECHNOLOGIES, INC\n",
      "314               2019  SERAPHIM SOLAR USA MANUFACTURING INC.\n",
      "313               2019               MISSION SOLAR ENERGY LLC\n",
      "\n",
      "[321 rows x 2 columns]\n"
     ]
    },
    {
     "name": "stderr",
     "output_type": "stream",
     "text": [
      "C:\\Users\\Tehoton\\anaconda3\\lib\\site-packages\\seaborn\\_decorators.py:36: FutureWarning: Pass the following variable as a keyword arg: x. From version 0.12, the only valid positional argument will be `data`, and passing other arguments without an explicit keyword will result in an error or misinterpretation.\n",
      "  warnings.warn(\n"
     ]
    },
    {
     "data": {
      "image/png": "[encoded data removed]",
      "text/plain": [
       "<Figure size 432x288 with 1 Axes>"
      ]
     },
     "metadata": {
      "needs_background": "light"
     },
     "output_type": "display_data"
    }
   ],
   "source": [
    "\n",
    "# VISUAALISOINTI \n",
    "# paneelivalmistaja: muutetaan vuosiksi ja sen mukaan sortattu\n",
    "module1['installation_date'] = pd.to_datetime(module1['installation_date'], format='%d-%b-%Y %H:%M:%S') \n",
    "module1['installation_date'] = module1['installation_date'].dt.year\n",
    "module1 = module1.sort_values(['installation_date'], ascending=True)\n",
    "\n",
    "print(\"valmistaja: \",module1)\n",
    "\n",
    "\n",
    "# Visualisointi paneelivalmistajat\n",
    "sns.countplot(module1['installation_date'])\n",
    "plt.title(\"Uusia Paneelivalmistajia / vuosi\")\n",
    "plt.xlabel('vuosi')\n",
    "plt.ylabel('lukumäärä')\n",
    "plt.xticks(rotation=90)\n",
    "plt.show()\n",
    "\n",
    "\n"
   ]
  },
  {
   "cell_type": "markdown",
   "id": "2397bd3b",
   "metadata": {},
   "source": [
    "\n",
    "\n",
    "Visualisointi 'uusia Paneeli asentajia / vuosi'.\n",
    "\n",
    "Kuvaajasta näkee miten uusia paneelien asentajia on tullut markkinoille.\n",
    "Asentajien määrä on noussut huomattavasti vasta 2015 aikana. "
   ]
  },
  {
   "cell_type": "code",
   "execution_count": 10,
   "id": "a829132b",
   "metadata": {},
   "outputs": [
    {
     "name": "stdout",
     "output_type": "stream",
     "text": [
      "asentajat:          installation_date              installer_name\n",
      "154819               1998                        SELF\n",
      "978707               1998                TESLA ENERGY\n",
      "432587               1998         SUN LIGHT AND POWER\n",
      "804389               1998        SIERRA SOLAR SYSTEMS\n",
      "136542               1998           REAL GOODS SOLAR \n",
      "...                   ...                         ...\n",
      "77288                2019               JNBNSTRUCTION\n",
      "162303               2019            PACE ENGINEERING\n",
      "36015                2019  HASKIN MECHANICAL SERVICES\n",
      "86382                2019      PATRIOTNSTRUCTION PROS\n",
      "7517                 2019           SOMIS INVESTMENTS\n",
      "\n",
      "[4741 rows x 2 columns]\n"
     ]
    },
    {
     "name": "stderr",
     "output_type": "stream",
     "text": [
      "C:\\Users\\Tehoton\\anaconda3\\lib\\site-packages\\seaborn\\_decorators.py:36: FutureWarning: Pass the following variable as a keyword arg: x. From version 0.12, the only valid positional argument will be `data`, and passing other arguments without an explicit keyword will result in an error or misinterpretation.\n",
      "  warnings.warn(\n"
     ]
    },
    {
     "data": {
      "image/png": "[encoded data removed]",
      "text/plain": [
       "<Figure size 432x288 with 1 Axes>"
      ]
     },
     "metadata": {
      "needs_background": "light"
     },
     "output_type": "display_data"
    }
   ],
   "source": [
    "# paneeliasentajat: muutetaan vuosiksi ja sen mukaan sortattu\n",
    "inst1['installation_date'] = pd.to_datetime(inst1['installation_date'], format='%d-%b-%Y %H:%M:%S') \n",
    "inst1['installation_date'] = inst1['installation_date'].dt.year\n",
    "inst1 = inst1.sort_values(['installation_date'], ascending=True)\n",
    "\n",
    "print(\"asentajat: \",inst1)\n",
    "\n",
    "\n",
    "# Visualisointi paneeliasentajat\n",
    "sns.countplot(inst1['installation_date'])\n",
    "plt.title(\"Uusia Paneeliasentajat / vuosi\")\n",
    "plt.xlabel('vuosi')\n",
    "plt.ylabel('lukumäärä')\n",
    "plt.xticks(rotation=90)\n",
    "plt.show()\n"
   ]
  }
 ],
 "metadata": {
  "kernelspec": {
   "display_name": "Python 3 (ipykernel)",
   "language": "python",
   "name": "python3"
  },
  "language_info": {
   "codemirror_mode": {
    "name": "ipython",
    "version": 3
   },
   "file_extension": ".py",
   "mimetype": "text/x-python",
   "name": "python",
   "nbconvert_exporter": "python",
   "pygments_lexer": "ipython3",
   "version": "3.9.12"
  }
 },
 "nbformat": 4,
 "nbformat_minor": 5
}
